{
  "nbformat": 4,
  "nbformat_minor": 0,
  "metadata": {
    "colab": {
      "provenance": []
    },
    "kernelspec": {
      "name": "python3",
      "display_name": "Python 3"
    },
    "language_info": {
      "name": "python"
    }
  },
  "cells": [
    {
      "cell_type": "markdown",
      "source": [
        "1. Write a code to read the contents of a file in Python"
      ],
      "metadata": {
        "id": "0DCnBXjooERU"
      }
    },
    {
      "cell_type": "code",
      "source": [
        "with open('example.txt', 'r') as file:\n",
        "    content = file.read()\n",
        "    print(content)"
      ],
      "metadata": {
        "id": "Y79jHjH6s0_B"
      },
      "execution_count": null,
      "outputs": []
    },
    {
      "cell_type": "markdown",
      "source": [
        "2. Write a code to write to a file in Python"
      ],
      "metadata": {
        "id": "HtFaX-sToKzd"
      }
    },
    {
      "cell_type": "code",
      "source": [
        "with open('example.txt', 'w') as file:\n",
        "    file.write(\"This is a new line of text.\")"
      ],
      "metadata": {
        "id": "QHH6r0N6s8Ax"
      },
      "execution_count": null,
      "outputs": []
    },
    {
      "cell_type": "markdown",
      "source": [
        "3. Write a code to append to a file in Python"
      ],
      "metadata": {
        "id": "SAeqEJ1WoN7E"
      }
    },
    {
      "cell_type": "code",
      "source": [
        "with open('example.txt', 'a') as file:\n",
        "    file.write(\"\\nThis is an appended line of text.\")"
      ],
      "metadata": {
        "id": "fXFMMgHWtExR"
      },
      "execution_count": null,
      "outputs": []
    },
    {
      "cell_type": "markdown",
      "source": [
        "4. Write a code to read a binary file in Python"
      ],
      "metadata": {
        "id": "3CGpifn8oS8i"
      }
    },
    {
      "cell_type": "code",
      "source": [
        "with open('example.bin', 'rb') as file:\n",
        "    content = file.read()\n",
        "    print(content)\n"
      ],
      "metadata": {
        "id": "Ty9zj7xctIsj"
      },
      "execution_count": null,
      "outputs": []
    },
    {
      "cell_type": "markdown",
      "source": [
        "5. What happens if we don't use 'with' keyword with open in python?\n",
        "\n",
        "Without the 'with' keyword, you need to manually close the file using 'file.close()'. Failing to close the file can lead to memory leaks and other file handling issues."
      ],
      "metadata": {
        "id": "D8Lf5PqsoWqp"
      }
    },
    {
      "cell_type": "markdown",
      "source": [
        "6. Explain the concept of buffering in file handling and how it helps in improving read and write operations\n",
        "\n",
        "Buffering is the process of temporarily storing data in a buffer (a memory area) before it's read from or written to a file. It improves performance by reducing the number of I/O operations required, as data is processed in larger chunks rather than one byte at a time."
      ],
      "metadata": {
        "id": "Z97Yp-zGoWdr"
      }
    },
    {
      "cell_type": "markdown",
      "source": [
        "7. Describe the steps involved in implementing buffered file handling in a programming language of your choice\n",
        "\n",
        "In Python, buffering can be handled by specifying the 'buffering' parameter in the 'open()' function. For example:"
      ],
      "metadata": {
        "id": "4Wy5lmV2oqRI"
      }
    },
    {
      "cell_type": "code",
      "source": [
        "with open('example.txt', 'r', buffering=8192) as file:\n",
        "    content = file.read()\n"
      ],
      "metadata": {
        "id": "WU_WW43Zo3dP"
      },
      "execution_count": null,
      "outputs": []
    },
    {
      "cell_type": "markdown",
      "source": [
        "This code reads the file using a buffer size of 8192 bytes."
      ],
      "metadata": {
        "id": "RBp0Xsl1o8fh"
      }
    },
    {
      "cell_type": "markdown",
      "source": [
        "8. Write a Python function to read a text file using buffered reading and return its contents\n"
      ],
      "metadata": {
        "id": "GUiy-xJQo-co"
      }
    },
    {
      "cell_type": "code",
      "source": [
        "def read_file_buffered(filename):\n",
        "    with open(filename, 'r', buffering=8192) as file:\n",
        "        return file.read()\n",
        "\n",
        "content = read_file_buffered('example.txt')\n",
        "print(content)\n"
      ],
      "metadata": {
        "id": "VD5OiTEfpAEM"
      },
      "execution_count": null,
      "outputs": []
    },
    {
      "cell_type": "markdown",
      "source": [
        "9. What are the advantages of using buffered reading over direct file reading in Python?\n",
        "\n",
        "Buffered reading reduces the number of I/O operations, improving performance. It allows for efficient memory usage by reading larger chunks of data at once."
      ],
      "metadata": {
        "id": "mLj67ufopCm7"
      }
    },
    {
      "cell_type": "markdown",
      "source": [
        "10. Write a Python code snippet to append content to a file using buffered writing"
      ],
      "metadata": {
        "id": "PQK1MqltpEr3"
      }
    },
    {
      "cell_type": "code",
      "source": [
        "def append_to_file(filename, text):\n",
        "    with open(filename, 'a', buffering=8192) as file:\n",
        "        file.write(text)\n",
        "\n",
        "append_to_file('example.txt', \"\\nBuffered appended text.\")\n"
      ],
      "metadata": {
        "id": "sg5-TQJTpJEt"
      },
      "execution_count": null,
      "outputs": []
    },
    {
      "cell_type": "markdown",
      "source": [
        "11. Write a Python function that demonstrates the use of the 'close()' method on a file"
      ],
      "metadata": {
        "id": "t1xcPGK-pMW7"
      }
    },
    {
      "cell_type": "code",
      "source": [
        "def close_file_example(filename):\n",
        "    file = open(filename, 'r')\n",
        "    content = file.read()\n",
        "    print(content)\n",
        "    file.close()\n",
        "\n",
        "close_file_example('example.txt')\n"
      ],
      "metadata": {
        "id": "7l9z02OypPlW"
      },
      "execution_count": null,
      "outputs": []
    },
    {
      "cell_type": "markdown",
      "source": [
        "12. Create a Python function to showcase the 'detach()' method on a file object"
      ],
      "metadata": {
        "id": "UEZxW-rCpSdY"
      }
    },
    {
      "cell_type": "code",
      "source": [
        "def detach_example(filename):\n",
        "    with open(filename, 'r') as file:\n",
        "        binary_stream = file.detach()\n",
        "        print(binary_stream.read())\n",
        "\n",
        "detach_example('example.txt')\n"
      ],
      "metadata": {
        "id": "BP72FHvypWXx"
      },
      "execution_count": null,
      "outputs": []
    },
    {
      "cell_type": "markdown",
      "source": [
        "13. Write a Python function to demonstrate the use of the 'seek()' method to change the file position"
      ],
      "metadata": {
        "id": "2Va4s1K8pY89"
      }
    },
    {
      "cell_type": "code",
      "source": [
        "def seek_example(filename):\n",
        "    with open(filename, 'r') as file:\n",
        "        file.seek(5)  # Move to the 5th byte\n",
        "        content = file.read()\n",
        "        print(content)\n",
        "\n",
        "seek_example('example.txt')\n"
      ],
      "metadata": {
        "id": "MguKMPqNpb5h"
      },
      "execution_count": null,
      "outputs": []
    },
    {
      "cell_type": "markdown",
      "source": [
        "14. Create a Python function to return the file descriptor (integer number) of a file using the 'fileno()' method"
      ],
      "metadata": {
        "id": "zw8ra9GMpeer"
      }
    },
    {
      "cell_type": "code",
      "source": [
        "def get_file_descriptor(filename):\n",
        "    with open(filename, 'r') as file:\n",
        "        return file.fileno()\n",
        "\n",
        "print(get_file_descriptor('example.txt'))\n"
      ],
      "metadata": {
        "id": "pqxixgfYpjyz"
      },
      "execution_count": null,
      "outputs": []
    },
    {
      "cell_type": "markdown",
      "source": [
        "15. Write a Python function to return the current position of the file's object using the 'tell()' method"
      ],
      "metadata": {
        "id": "nbyllEeypmK9"
      }
    },
    {
      "cell_type": "code",
      "source": [
        "def tell_position_example(filename):\n",
        "    with open(filename, 'r') as file:\n",
        "        file.read(10)\n",
        "        return file.tell()\n",
        "\n",
        "print(tell_position_example('example.txt'))\n"
      ],
      "metadata": {
        "id": "Djv7EkDEpqO5"
      },
      "execution_count": null,
      "outputs": []
    },
    {
      "cell_type": "markdown",
      "source": [
        "16. Create a Python program that logs a message to a file using the 'logging' module\n"
      ],
      "metadata": {
        "id": "rXf87FTUpsxj"
      }
    },
    {
      "cell_type": "code",
      "source": [
        "import logging\n",
        "\n",
        "logging.basicConfig(filename='example.log', level=logging.INFO)\n",
        "logging.info('This is an informational message.')\n"
      ],
      "metadata": {
        "id": "nf7BGPKwpxw-"
      },
      "execution_count": null,
      "outputs": []
    },
    {
      "cell_type": "markdown",
      "source": [
        "17. Explain the importance of logging levels in Python's 'logging' module\n",
        "\n",
        "Logging levels (e.g., DEBUG, INFO, WARNING, ERROR, CRITICAL) allow developers to categorize messages by their severity, making it easier to filter and analyze logs based on importance."
      ],
      "metadata": {
        "id": "R5tDxZr6p1c_"
      }
    },
    {
      "cell_type": "markdown",
      "source": [
        "18. Create a Python program that uses the debugger to find the value of a variable inside a loop\n",
        "python\n"
      ],
      "metadata": {
        "id": "K1Jf1WM0p70l"
      }
    },
    {
      "cell_type": "code",
      "source": [
        "import pdb\n",
        "\n",
        "def loop_with_debugger():\n",
        "    for i in range(5):\n",
        "        pdb.set_trace()\n",
        "        print(i)\n",
        "\n",
        "loop_with_debugger()\n"
      ],
      "metadata": {
        "id": "lT3K_Inep7Ww"
      },
      "execution_count": null,
      "outputs": []
    },
    {
      "cell_type": "markdown",
      "source": [
        "19. Create a Python program that demonstrates setting breakpoints and inspecting variables using the debugger"
      ],
      "metadata": {
        "id": "-2te_kMUp-uJ"
      }
    },
    {
      "cell_type": "code",
      "source": [
        "import pdb\n",
        "\n",
        "def function_with_breakpoints():\n",
        "    x = 10\n",
        "    y = 20\n",
        "    pdb.set_trace()  # Breakpoint here\n",
        "    z = x + y\n",
        "    print(z)\n",
        "\n",
        "function_with_breakpoints()\n"
      ],
      "metadata": {
        "id": "kSkTSxvdqATo"
      },
      "execution_count": null,
      "outputs": []
    },
    {
      "cell_type": "markdown",
      "source": [
        "20. Create a Python program that uses the debugger to trace a recursive function"
      ],
      "metadata": {
        "id": "RCDyUKTfqDfp"
      }
    },
    {
      "cell_type": "code",
      "source": [
        "import pdb\n",
        "\n",
        "def factorial(n):\n",
        "    pdb.set_trace()\n",
        "    if n == 1:\n",
        "        return 1\n",
        "    else:\n",
        "        return n * factorial(n-1)\n",
        "\n",
        "print(factorial(5))\n"
      ],
      "metadata": {
        "id": "mnJBz7pdqDEQ"
      },
      "execution_count": null,
      "outputs": []
    },
    {
      "cell_type": "markdown",
      "source": [
        "21. Write a try-except block to handle a 'ZeroDivisionError'"
      ],
      "metadata": {
        "id": "2Qo3niHtqInG"
      }
    },
    {
      "cell_type": "code",
      "source": [
        "try:\n",
        "    result = 10 / 0\n",
        "except ZeroDivisionError:\n",
        "    print(\"You can't divide by zero!\")\n"
      ],
      "metadata": {
        "id": "etoamisNqMG3"
      },
      "execution_count": null,
      "outputs": []
    },
    {
      "cell_type": "markdown",
      "source": [
        "22. How does the 'else' block work with 'try-except'?\n",
        "\n",
        "The 'else' block in a 'try-except' construct is executed if the 'try' block does not raise an exception."
      ],
      "metadata": {
        "id": "rBb_xxjjqOL4"
      }
    },
    {
      "cell_type": "markdown",
      "source": [
        "23. Implement a try-except-else block to open and read a file"
      ],
      "metadata": {
        "id": "ATiqk83Bqa-f"
      }
    },
    {
      "cell_type": "code",
      "source": [
        "try:\n",
        "    file = open('example.txt', 'r')\n",
        "except FileNotFoundError:\n",
        "    print(\"File not found!\")\n",
        "else:\n",
        "    content = file.read()\n",
        "    print(content)\n",
        "    file.close()\n"
      ],
      "metadata": {
        "id": "yHqP40zTqkCQ"
      },
      "execution_count": null,
      "outputs": []
    },
    {
      "cell_type": "markdown",
      "source": [
        "24. What is the purpose of the 'finally' block in exception handling?\n",
        "\n",
        "The 'finally' block is used to execute code that should run regardless of whether an exception was raised or not, such as closing a file or releasing resources."
      ],
      "metadata": {
        "id": "Uou6mLLdqm2c"
      }
    },
    {
      "cell_type": "markdown",
      "source": [
        "25. Write a try-except-finally block to handle a 'ValueError'"
      ],
      "metadata": {
        "id": "PkkvfBETqs4_"
      }
    },
    {
      "cell_type": "code",
      "source": [
        "try:\n",
        "    number = int(\"not_a_number\")\n",
        "except ValueError:\n",
        "    print(\"That's not a valid integer!\")\n",
        "finally:\n",
        "    print(\"This runs no matter what.\")\n"
      ],
      "metadata": {
        "id": "SfPAMSNeqyAW"
      },
      "execution_count": null,
      "outputs": []
    },
    {
      "cell_type": "markdown",
      "source": [
        "26. How multiple except blocks work in Python?\n",
        "\n",
        "Multiple 'except' blocks allow you to handle different exceptions separately. Each block can specify a different exception type."
      ],
      "metadata": {
        "id": "YjMYYURZq0lR"
      }
    },
    {
      "cell_type": "markdown",
      "source": [
        "27. What is a custom exception in Python?\n",
        "\n",
        "A custom exception is a user-defined exception class that extends the built-in 'Exception' class, allowing for more specific error handling in your application."
      ],
      "metadata": {
        "id": "ecanx8zvq5-A"
      }
    },
    {
      "cell_type": "markdown",
      "source": [
        "28. Create a custom exception class with a message"
      ],
      "metadata": {
        "id": "j7IY_Kgvq_mZ"
      }
    },
    {
      "cell_type": "code",
      "source": [
        "class MyCustomError(Exception):\n",
        "    def __init__(self, message):\n",
        "        self.message = message\n",
        "        super().__init__(self.message)\n"
      ],
      "metadata": {
        "id": "otCpr5cbrA0H"
      },
      "execution_count": null,
      "outputs": []
    },
    {
      "cell_type": "markdown",
      "source": [
        "29. Write a code to raise a custom exception in Python"
      ],
      "metadata": {
        "id": "IlziakqorD35"
      }
    },
    {
      "cell_type": "code",
      "source": [
        "raise MyCustomError(\"This is a custom error message.\")\n"
      ],
      "metadata": {
        "id": "SWaUW-SOrE3c"
      },
      "execution_count": null,
      "outputs": []
    },
    {
      "cell_type": "markdown",
      "source": [
        "30. Write a function that raises a custom exception when a value is negative"
      ],
      "metadata": {
        "id": "qkWbwjfprIsh"
      }
    },
    {
      "cell_type": "code",
      "source": [
        "def check_positive(value):\n",
        "    if value < 0:\n",
        "        raise MyCustomError(\"Negative value detected!\")\n",
        "    return value\n",
        "\n",
        "check_positive(-5)\n"
      ],
      "metadata": {
        "id": "GD38UNLTrKiW"
      },
      "execution_count": null,
      "outputs": []
    },
    {
      "cell_type": "markdown",
      "source": [
        "31. What is the role of 'try', 'except', 'else', and 'finally' in handling exceptions?\n",
        "\n",
        "'try': Block where code that might raise an exception is executed.\n",
        "\n",
        "'except': Handles specific exceptions that occur in the try block.\n",
        "\n",
        "'else': Executes code if no exception is raised.\n",
        "\n",
        "'finally': Runs code that should execute regardless of whether an exception occurred."
      ],
      "metadata": {
        "id": "_pH_o1eZrNnk"
      }
    },
    {
      "cell_type": "markdown",
      "source": [
        "32. How can custom exceptions improve code readability and maintainability?\n",
        "\n",
        "Custom exceptions make error handling more specific and descriptive, allowing developers to easily identify and manage unique error conditions, improving code readability and maintainability."
      ],
      "metadata": {
        "id": "oZXSkP4hrjaZ"
      }
    },
    {
      "cell_type": "markdown",
      "source": [
        "33. What is multithreading?\n",
        "\n",
        "Multithreading is a technique that allows multiple threads to run concurrently within a single process, enabling parallel execution of tasks."
      ],
      "metadata": {
        "id": "qGTujJ9Ero4f"
      }
    },
    {
      "cell_type": "markdown",
      "source": [
        "34. Create a thread in Python"
      ],
      "metadata": {
        "id": "41gTj1yyrr6d"
      }
    },
    {
      "cell_type": "code",
      "source": [
        "import threading\n",
        "\n",
        "def print_numbers():\n",
        "    for i in range(5):\n",
        "        print(i)\n",
        "\n",
        "thread = threading.Thread(target=print_numbers)\n",
        "thread.start()\n"
      ],
      "metadata": {
        "id": "BAIBtp4JrtY7"
      },
      "execution_count": null,
      "outputs": []
    },
    {
      "cell_type": "markdown",
      "source": [
        "35. What is the Global Interpreter Lock (GIL) in Python?\n",
        "\n",
        "The GIL is a mutex that protects access to Python objects, preventing multiple threads from executing Python bytecode simultaneously, which can limit the performance of CPU-bound multithreaded programs."
      ],
      "metadata": {
        "id": "WHIBrpKyrvvf"
      }
    },
    {
      "cell_type": "markdown",
      "source": [
        "36. Implement a simple multithreading example in Python"
      ],
      "metadata": {
        "id": "Cd9ALcwWrxOM"
      }
    },
    {
      "cell_type": "code",
      "source": [
        "import threading\n",
        "\n",
        "def print_numbers():\n",
        "    for i in range(5):\n",
        "        print(i)\n",
        "\n",
        "def print_letters():\n",
        "    for letter in 'ABCDE':\n",
        "        print(letter)\n",
        "\n",
        "thread1 = threading.Thread(target=print_numbers)\n",
        "thread2 = threading.Thread(target=print_letters)\n",
        "\n",
        "thread1.start()\n",
        "thread2.start()\n",
        "\n",
        "thread1.join()\n",
        "thread2.join()\n"
      ],
      "metadata": {
        "id": "_U37oLmjrzEP"
      },
      "execution_count": null,
      "outputs": []
    },
    {
      "cell_type": "markdown",
      "source": [
        "37. What is the purpose of the 'join()' method in threading?\n",
        "\n",
        "The 'join()' method ensures that a thread has completed its execution before the program continues, allowing for proper synchronization between threads."
      ],
      "metadata": {
        "id": "NxNexgVlr1bZ"
      }
    },
    {
      "cell_type": "markdown",
      "source": [
        "38. Describe a scenario where multithreading would be beneficial in Python\n",
        "\n",
        "Multithreading is beneficial in I/O-bound tasks, such as reading/writing files or making network requests, where waiting for resources would otherwise block program execution."
      ],
      "metadata": {
        "id": "LDZkGFeNr4-J"
      }
    },
    {
      "cell_type": "markdown",
      "source": [
        "39. What is multiprocessing in Python?\n",
        "\n",
        "Multiprocessing is a technique where multiple processes are run concurrently, each with its own Python interpreter and memory space, bypassing the GIL and enabling true parallel execution."
      ],
      "metadata": {
        "id": "CdGG-60mr-WP"
      }
    },
    {
      "cell_type": "markdown",
      "source": [
        "40. How is multiprocessing different from multithreading in Python?\n",
        "\n",
        "Multiprocessing involves separate processes with their own memory space, allowing true parallel execution. Multithreading, however, involves threads within the same process and shares memory, but is limited by the GIL."
      ],
      "metadata": {
        "id": "evqUtSFzsBmM"
      }
    },
    {
      "cell_type": "markdown",
      "source": [
        "41. Create a process using the multiprocessing module in Python"
      ],
      "metadata": {
        "id": "0pwm9WPosD3d"
      }
    },
    {
      "cell_type": "code",
      "source": [
        "import multiprocessing\n",
        "\n",
        "def print_numbers():\n",
        "    for i in range(5):\n",
        "        print(i)\n",
        "\n",
        "process = multiprocessing.Process(target=print_numbers)\n",
        "process.start()\n",
        "process.join()\n"
      ],
      "metadata": {
        "id": "kE9Yr3PSsFpf"
      },
      "execution_count": null,
      "outputs": []
    },
    {
      "cell_type": "markdown",
      "source": [
        "42. Explain the concept of Pool in the multiprocessing module\n",
        "\n",
        "A 'Pool' in the 'multiprocessing' module allows for the management of a fixed number of worker processes, distributing tasks among them and collecting results once tasks are completed."
      ],
      "metadata": {
        "id": "oq9sd3xPsHxO"
      }
    },
    {
      "cell_type": "markdown",
      "source": [
        "43. Explain inter-process communication in multiprocessing.\n",
        "\n",
        "Inter-process communication (IPC) allows processes to communicate and share data with each other. In Python, IPC can be achieved using mechanisms like 'Queue', 'Pipe', and shared memory provided by the 'multiprocessing' module.\n",
        "\n"
      ],
      "metadata": {
        "id": "tF9zIRmSsP8a"
      }
    }
  ]
}